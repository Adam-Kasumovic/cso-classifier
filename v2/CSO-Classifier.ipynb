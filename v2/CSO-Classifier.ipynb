{
 "cells": [
  {
   "cell_type": "markdown",
   "metadata": {},
   "source": [
    "# Loading Libraries"
   ]
  },
  {
   "cell_type": "code",
   "execution_count": 1,
   "metadata": {},
   "outputs": [],
   "source": [
    "import classifier.misc as misc\n",
    "from classifier.syntacticmodule import CSOClassifierSyntactic as synt\n",
    "from classifier.semanticmodule import CSOClassifierSemantic as sema\n",
    "\n",
    "import json"
   ]
  },
  {
   "cell_type": "markdown",
   "metadata": {},
   "source": [
    "# Loading Paper"
   ]
  },
  {
   "cell_type": "code",
   "execution_count": null,
   "metadata": {},
   "outputs": [],
   "source": [
    "paper = {\n",
    "        \"title\": \"Automatic Classification of Springer Nature Proceedings with Smart Topic Miner.\",\n",
    "        \"abstract\": \"The process of classifying scholarly outputs is crucial to ensure timely access \"\n",
    "                    \"to knowledge. However, this process is typically carried out manually by expert editors, \"\n",
    "                    \"leading to high costs and slow throughput. In this paper we present Smart Topic Miner (STM), \"\n",
    "                    \"a novel solution which uses semantic web technologies to classify scholarly publications on \"\n",
    "                    \"the basis of a very large automatically generated ontology of research areas. STM was developed \"\n",
    "                    \"to support the Springer Nature Computer Science editorial team in classifying proceedings in the \"\n",
    "                    \"LNCS family. It analyses in real time a set of publications provided by an editor and produces a \"\n",
    "                    \"structured set of topics and a number of Springer Nature Classification tags, which best characterise \"\n",
    "                    \"the given input. In this paper we present the architecture of the system and report on an evaluation \"\n",
    "                    \"study conducted with a team of Springer Nature editors. The results of the evaluation, which showed \"\n",
    "                    \"that STM classifies publications with a high degree of accuracy, are very encouraging and as a result \"\n",
    "                    \"we are currently discussing the required next steps to ensure large-scale deployment within the company.\",\n",
    "        \"keywords\": \"Bibliographic Data, Conference Proceedings, data mining, Metadata, Ontology Learning, Scholarly Data, Scholarly Ontologies.\"\n",
    "        }\n",
    "\n",
    "        \n",
    "\n",
    "from IPython.display import display, HTML\n",
    "\n",
    "display(HTML('<h1>'+paper[\"title\"]+'</h1>'))\n",
    "display(HTML('<p><strong>Abstract:</strong> '+paper[\"abstract\"]+'</p>'))\n",
    "display(HTML('<p><strong>Keywords:</strong> <i>'+paper[\"keywords\"]+'</i></p>'))"
   ]
  },
  {
   "cell_type": "markdown",
   "metadata": {},
   "source": [
    "# Load Model, CSO and initialize"
   ]
  },
  {
   "cell_type": "code",
   "execution_count": null,
   "metadata": {},
   "outputs": [],
   "source": [
    "cso, model = misc.load_ontology_and_model()\n",
    "\n",
    "# Passing parematers to the two classes (synt and sema)\n",
    "synt_module = synt(cso, paper)\n",
    "sema_module = sema(model, cso, paper)\n",
    "\n",
    "#initializing variable that will contain output\n",
    "class_res = {}"
   ]
  },
  {
   "cell_type": "markdown",
   "metadata": {},
   "source": [
    "# Running"
   ]
  },
  {
   "cell_type": "code",
   "execution_count": null,
   "metadata": {},
   "outputs": [],
   "source": [
    "class_res[\"syntactic\"] = synt_module.classify_syntactic()\n",
    "class_res[\"semantic\"]  = sema_module.classify_semantic()\n",
    "\n",
    "union = list(set(class_res[\"syntactic\"] + class_res[\"semantic\"]))\n",
    "class_res[\"union\"] = union\n",
    "\n",
    "enhanced = misc.climb_ontology(cso,union)\n",
    "class_res[\"enhanced\"] = [x for x in enhanced if x not in union]"
   ]
  },
  {
   "cell_type": "markdown",
   "metadata": {},
   "source": [
    "# Printing and Saving"
   ]
  },
  {
   "cell_type": "code",
   "execution_count": null,
   "metadata": {
    "scrolled": true
   },
   "outputs": [],
   "source": [
    "print(class_res)\n",
    "\n",
    "with open('output.json', 'w') as outfile:\n",
    "    json.dump(class_res, outfile, indent=4)"
   ]
  },
  {
   "cell_type": "code",
   "execution_count": null,
   "metadata": {},
   "outputs": [],
   "source": []
  }
 ],
 "metadata": {
  "kernelspec": {
   "display_name": "Python 3",
   "language": "python",
   "name": "python3"
  },
  "language_info": {
   "codemirror_mode": {
    "name": "ipython",
    "version": 3
   },
   "file_extension": ".py",
   "mimetype": "text/x-python",
   "name": "python",
   "nbconvert_exporter": "python",
   "pygments_lexer": "ipython3",
   "version": "3.6.8"
  }
 },
 "nbformat": 4,
 "nbformat_minor": 2
}
