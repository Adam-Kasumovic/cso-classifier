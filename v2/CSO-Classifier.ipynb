{
 "cells": [
  {
   "cell_type": "markdown",
   "metadata": {},
   "source": [
    "# Loading Libraries"
   ]
  },
  {
   "cell_type": "code",
   "execution_count": 1,
   "metadata": {},
   "outputs": [],
   "source": [
    "import classifier.misc as misc\n",
    "from classifier.syntacticmodule import CSOClassifier as synt\n",
    "from classifier.semanticmodule import CSOClassifier as sema\n",
    "\n",
    "import json"
   ]
  },
  {
   "cell_type": "markdown",
   "metadata": {},
   "source": [
    "# Loading Paper"
   ]
  },
  {
   "cell_type": "code",
   "execution_count": 2,
   "metadata": {},
   "outputs": [
    {
     "data": {
      "text/html": [
       "<h1>Klink-2: integrating multiple web sources to generate semantic topic networks.</h1>"
      ],
      "text/plain": [
       "<IPython.core.display.HTML object>"
      ]
     },
     "metadata": {},
     "output_type": "display_data"
    },
    {
     "data": {
      "text/html": [
       "<p><strong>Abstract:</strong> The amount of scholarly data available on the web is steadily increasing, enabling different types of analytics which can provide important insights into the research activity. In order to make sense of and explore this large-scale body of knowledge we need an accurate, comprehensive and up-to-date ontology of research topics. Unfortunately, human crafted classifications do not satisfy these criteria, as they evolve too slowly and tend to be too coarse-grained. Current automated methods for generating ontologies of research areas also present a number of limitations, such as: i) they do not consider the rich amount of indirect statistical and semantic relationships, which can help to understand the relation between two topics – e.g., the fact that two research areas are associated with a similar set of venues or technologies; ii) they do not distinguish between different kinds of hierarchical relationships; and iii) they are not able to handle effectively ambiguous topics characterized by a noisy set of relationships. In this paper we present Klink-2, a novel approach which improves on our earlier work on automatic generation of semantic topic networks and addresses the aforementioned limitations by taking advantage of a variety of knowledge sources available on the web. In particular, Klink-2 analyses networks of research entities (including papers, authors, venues, and technologies) to infer three kinds of semantic relationships between topics. It also identifies ambiguous keywords (e.g., “ontology”) and separates them into the appropriate distinct topics – e.g., “ontology/philosophy” vs. “ontology/semantic web”. Our experimental evaluation shows that the ability of Klink-2 to integrate a high number of data sources and to generate topics with accurate contextual meaning yields significant improvements over other algorithms in terms of both precision and recall.</p>"
      ],
      "text/plain": [
       "<IPython.core.display.HTML object>"
      ]
     },
     "metadata": {},
     "output_type": "display_data"
    },
    {
     "data": {
      "text/html": [
       "<p><strong>Keywords:</strong> <i>Scholarly Data, Ontology Learning, Bibliographic Data, Scholarly Ontologies, Data Mining.</i></p>"
      ],
      "text/plain": [
       "<IPython.core.display.HTML object>"
      ]
     },
     "metadata": {},
     "output_type": "display_data"
    }
   ],
   "source": [
    "paper = {\n",
    "        \"title\": \"Klink-2: integrating multiple web sources to generate semantic topic networks.\",\n",
    "        \"abstract\": \"The amount of scholarly data available on the web is steadily increasing, enabling \" \n",
    "                    \"different types of analytics which can provide important insights into the research activity. \" \n",
    "                    \"In order to make sense of and explore this large-scale body of knowledge we need an accurate, \" \n",
    "                    \"comprehensive and up-to-date ontology of research topics. Unfortunately, human crafted classifications \" \n",
    "                    \"do not satisfy these criteria, as they evolve too slowly and tend to be too coarse-grained. Current \" \n",
    "                    \"automated methods for generating ontologies of research areas also present a number of limitations, \" \n",
    "                    \"such as: i) they do not consider the rich amount of indirect statistical and semantic relationships, \" \n",
    "                    \"which can help to understand the relation between two topics – e.g., the fact that two research areas are \" \n",
    "                    \"associated with a similar set of venues or technologies; ii) they do not distinguish between different kinds \" \n",
    "                    \"of hierarchical relationships; and iii) they are not able to handle effectively ambiguous topics characterized \" \n",
    "                    \"by a noisy set of relationships. In this paper we present Klink-2, a novel approach which improves on our earlier \" \n",
    "                    \"work on automatic generation of semantic topic networks and addresses the aforementioned limitations by taking \" \n",
    "                    \"advantage of a variety of knowledge sources available on the web. In particular, Klink-2 analyses networks of \" \n",
    "                    \"research entities (including papers, authors, venues, and technologies) to infer three kinds of semantic \" \n",
    "                    \"relationships between topics. It also identifies ambiguous keywords (e.g., “ontology”) and separates them \" \n",
    "                    \"into the appropriate distinct topics – e.g., “ontology/philosophy” vs. “ontology/semantic web”. Our experimental \" \n",
    "                    \"evaluation shows that the ability of Klink-2 to integrate a high number of data sources and to generate topics with \" \n",
    "                    \"accurate contextual meaning yields significant improvements over other algorithms in terms of both precision and recall.\",\n",
    "        \"keywords\": \"Scholarly Data, Ontology Learning, Bibliographic Data, Scholarly Ontologies, Data Mining.\"\n",
    "        }\n",
    "\n",
    "        \n",
    "\n",
    "from IPython.display import display, HTML\n",
    "\n",
    "display(HTML('<h1>'+paper[\"title\"]+'</h1>'))\n",
    "display(HTML('<p><strong>Abstract:</strong> '+paper[\"abstract\"]+'</p>'))\n",
    "display(HTML('<p><strong>Keywords:</strong> <i>'+paper[\"keywords\"]+'</i></p>'))"
   ]
  },
  {
   "cell_type": "markdown",
   "metadata": {},
   "source": [
    "# Load Model, CSO and initialize"
   ]
  },
  {
   "cell_type": "code",
   "execution_count": 3,
   "metadata": {},
   "outputs": [],
   "source": [
    "cso, model = misc.load_ontology_and_model()\n",
    "\n",
    "# Passing parematers to the two classes (synt and sema)\n",
    "synt_module = synt(cso, paper)\n",
    "sema_module = sema(model, cso, paper)\n",
    "\n",
    "#initializing variable that will contain output\n",
    "class_res = {}"
   ]
  },
  {
   "cell_type": "markdown",
   "metadata": {},
   "source": [
    "# Running"
   ]
  },
  {
   "cell_type": "code",
   "execution_count": 6,
   "metadata": {},
   "outputs": [],
   "source": [
    "class_res[\"syntactic\"] = synt_module.classify_syntactic()\n",
    "class_res[\"semantic\"]  = sema_module.classify_semantic()\n",
    "\n",
    "union = list(set(class_res[\"syntactic\"] + class_res[\"semantic\"]))\n",
    "class_res[\"union\"] = union\n",
    "\n",
    "enhanced = misc.climb_ontology(cso,union)\n",
    "class_res[\"enhanced\"] = [x for x in enhanced if x not in union]"
   ]
  },
  {
   "cell_type": "markdown",
   "metadata": {},
   "source": [
    "# Printing and Saving"
   ]
  },
  {
   "cell_type": "code",
   "execution_count": 7,
   "metadata": {
    "scrolled": true
   },
   "outputs": [
    {
     "name": "stdout",
     "output_type": "stream",
     "text": [
      "{'syntactic': ['semantic web', 'ontology learning', 'semantics', 'data mining', 'ontology', 'semantic information'], 'semantic': ['semantics', 'semantic information', 'ontology', 'domain ontologies', 'semantic web', 'learning', 'ontology learning', 'data mining'], 'union': ['semantic web', 'ontology learning', 'semantics', 'data mining', 'ontology', 'semantic information', 'learning', 'domain ontologies'], 'enhanced': ['ontology engineering', 'computer science', 'education', 'world wide web']}\n"
     ]
    }
   ],
   "source": [
    "print(class_res)\n",
    "\n",
    "with open('output.json', 'w') as outfile:\n",
    "    json.dump(class_res, outfile, indent=4)"
   ]
  }
 ],
 "metadata": {
  "kernelspec": {
   "display_name": "Python 3",
   "language": "python",
   "name": "python3"
  },
  "language_info": {
   "codemirror_mode": {
    "name": "ipython",
    "version": 3
   },
   "file_extension": ".py",
   "mimetype": "text/x-python",
   "name": "python",
   "nbconvert_exporter": "python",
   "pygments_lexer": "ipython3",
   "version": "3.6.8"
  }
 },
 "nbformat": 4,
 "nbformat_minor": 2
}
